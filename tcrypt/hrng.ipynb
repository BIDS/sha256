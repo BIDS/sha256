{
 "cells": [
  {
   "cell_type": "markdown",
   "metadata": {},
   "source": [
    "# Experiments for hash-based PRNGs"
   ]
  },
  {
   "cell_type": "code",
   "execution_count": 1,
   "metadata": {
    "collapsed": true
   },
   "outputs": [],
   "source": [
    "from ctypes import *\n",
    "from ctypes.util import find_library"
   ]
  },
  {
   "cell_type": "code",
   "execution_count": 3,
   "metadata": {},
   "outputs": [
    {
     "data": {
      "text/plain": [
       "<CDLL '/opt/libtom/lib/libtomcrypt.dylib', handle 7ff9dd7eb310 at 0x11009a160>"
      ]
     },
     "execution_count": 3,
     "metadata": {},
     "output_type": "execute_result"
    }
   ],
   "source": [
    "libname = 'tomcrypt'\n",
    "libpath = f'/opt/libtom/lib/lib{libname}.dylib'\n",
    "LTC = cdll.LoadLibrary(libpath)\n",
    "LTC"
   ]
  },
  {
   "cell_type": "code",
   "execution_count": 4,
   "metadata": {},
   "outputs": [
    {
     "name": "stdout",
     "output_type": "stream",
     "text": [
      "  all supported constants and their values:\n",
      "    need to allocate 627 bytes \n",
      "\n",
      "PK_PUBLIC,0\n",
      "PK_PRIVATE,1\n",
      "PKA_RSA,0\n",
      "PKA_DSA,1\n",
      "LTC_PKCS_1,1\n",
      "LTC_PKCS_1_EMSA,1\n",
      "LTC_PKCS_1_EME,2\n",
      "LTC_PKCS_1_V1_5,1\n",
      "LTC_PKCS_1_OAEP,2\n",
      "LTC_PKCS_1_PSS,3\n",
      "LTC_MRSA,1\n",
      "MIN_RSA_SIZE,1024\n",
      "MAX_RSA_SIZE,4096\n",
      "LTC_MKAT,0\n",
      "LTC_MECC,1\n",
      "ECC_BUF_SIZE,256\n",
      "ECC_MAXSIZE,66\n",
      "LTC_MDSA,1\n",
      "LTC_MDSA_DELTA,512\n",
      "LTC_MDSA_MAX_GROUP,512\n",
      "LTC_DER_MAX_PUBKEY_SIZE,4096\n",
      "LTC_MILLER_RABIN_REPS,35\n",
      "LTC_CTR_MODE,1\n",
      "CTR_COUNTER_LITTLE_ENDIAN,0\n",
      "CTR_COUNTER_BIG_ENDIAN,4096\n",
      "LTC_CTR_RFC3686,8192\n",
      "MAXBLOCKSIZE,128\n",
      "TAB_SIZE,32\n",
      "ARGTYPE,0\n",
      "LTM_DESC,1\n",
      "TFM_DESC,0\n",
      "GMP_DESC,0\n",
      "LTC_FAST,1\n",
      "LTC_NO_FILE,0\n",
      "ENDIAN_LITTLE,1\n",
      "ENDIAN_BIG,0\n",
      "ENDIAN_32BITWORD,0\n",
      "ENDIAN_64BITWORD,1\n",
      "ENDIAN_NEUTRAL,0\n"
     ]
    }
   ],
   "source": [
    "#---------------------------------------------------------------\n",
    "# get list of all supported constants followed by a list of all\n",
    "# supported sizes.  One alternative: these lists may be parsed\n",
    "# and used as needed.\n",
    "print('  all supported constants and their values:')\n",
    "\n",
    "# get size to allocate for constants output list\n",
    "str_len = c_int(0)\n",
    "ret = LTC.crypt_list_all_constants(None, byref(str_len))\n",
    "print('    need to allocate %d bytes \\n' % str_len.value)\n",
    "\n",
    "# allocate that size and get (name, size) pairs, each pair\n",
    "# separated by a newline char.\n",
    "names_sizes = c_buffer(str_len.value)\n",
    "ret = LTC.crypt_list_all_constants(names_sizes, byref(str_len))\n",
    "print(names_sizes.value.decode())"
   ]
  },
  {
   "cell_type": "code",
   "execution_count": 93,
   "metadata": {},
   "outputs": [
    {
     "name": "stdout",
     "output_type": "stream",
     "text": [
      "\n",
      "  selected sizes:\n",
      "    sha256_state               112\n",
      "    sha512_state               208\n"
     ]
    }
   ],
   "source": [
    "# print selected sizes\n",
    "print('\\n  selected sizes:')\n",
    "\n",
    "names = [b'sha256_state', b'sha512_state']\n",
    "for name in names:\n",
    "    size = c_int(0)\n",
    "    rc = LTC.crypt_get_size(name, byref(size))\n",
    "    value = size.value\n",
    "    print('    %-25s  %d' % (name.decode(), value))"
   ]
  },
  {
   "cell_type": "code",
   "execution_count": 152,
   "metadata": {
    "collapsed": true
   },
   "outputs": [],
   "source": [
    "#---------------------------------------------------------------\n",
    "# here is an example of how a wrapper can make Python access\n",
    "# more Pythonic\n",
    "\n",
    "def _get_size(name):\n",
    "    size = c_int(0)\n",
    "    rc = LTC.crypt_get_size(name, byref(size))\n",
    "    return size.value\n",
    "\n",
    "sha256_state_struct_size = _get_size(b'sha256_state')\n",
    "sha512_state_struct_size = _get_size(b'sha512_state')\n",
    "\n",
    "class SHAWalker():\n",
    "    def __init__(self, seed:int=0):\n",
    "        self.state = create_string_buffer(sha256_state_struct_size)\n",
    "        self.md = create_string_buffer(32)\n",
    "        LTC.sha256_init(self.state)\n",
    "        if seed>0:\n",
    "            self.jump(seed)\n",
    "        \n",
    "    def step(self):\n",
    "        LTC.sha256_process(self.state, b'0', 1)\n",
    "\n",
    "    def jump(self, nsteps: int):\n",
    "        LTC.sha256_process(self.state, b'0' * nsteps, nsteps)\n",
    "    \n",
    "    def update(self, data):\n",
    "        if not isinstance(data, bytes):\n",
    "            raise TypeError(\"Unicode-objects must be encoded before hashing - tomcrypt\")\n",
    "        LTC.sha256_process(self.state, data, len(data))\n",
    "        \n",
    "    def digest(self):\n",
    "        LTC.sha256_done(self.state, self.md)\n",
    "        return self.md.value\n",
    "\n",
    "    def hexdigest(self):\n",
    "        return self.digest().hex()"
   ]
  },
  {
   "cell_type": "code",
   "execution_count": 153,
   "metadata": {},
   "outputs": [
    {
     "data": {
      "text/plain": [
       "'e3b0c44298fc1c149afbf4c8996fb92427ae41e4649b934ca495991b7852b855'"
      ]
     },
     "execution_count": 153,
     "metadata": {},
     "output_type": "execute_result"
    }
   ],
   "source": [
    "sw = SHAWalker()\n",
    "sw.hexdigest()"
   ]
  },
  {
   "cell_type": "code",
   "execution_count": 154,
   "metadata": {},
   "outputs": [
    {
     "data": {
      "text/plain": [
       "'e3b0c44298fc1c149afbf4c8996fb92427ae41e4649b934ca495991b7852b855'"
      ]
     },
     "execution_count": 154,
     "metadata": {},
     "output_type": "execute_result"
    }
   ],
   "source": [
    "import hashlib\n",
    "\n",
    "spy = hashlib.sha256()\n",
    "spy.hexdigest()"
   ]
  },
  {
   "cell_type": "code",
   "execution_count": 155,
   "metadata": {
    "collapsed": true
   },
   "outputs": [],
   "source": [
    "class SHAWalkerPy():\n",
    "    def __init__(self, seed:int=0):\n",
    "        self.s256 = hashlib.sha256()\n",
    "        if seed>0:\n",
    "            self.jump(seed)\n",
    "        \n",
    "    def step(self):\n",
    "        self.s256.update(b'0')\n",
    "\n",
    "    def jump(self, nsteps: int):\n",
    "        self.s256.update(b'0' * nsteps)\n",
    "        \n",
    "    def digest(self):\n",
    "        return self.s256.digest()\n",
    "    \n",
    "    def update(self, data):\n",
    "        return self.s256.update(data)\n",
    "\n",
    "    def hexdigest(self):\n",
    "        return self.s256.hexdigest()"
   ]
  },
  {
   "cell_type": "code",
   "execution_count": 156,
   "metadata": {},
   "outputs": [
    {
     "name": "stdout",
     "output_type": "stream",
     "text": [
      "e3b0c44298fc1c149afbf4c8996fb92427ae41e4649b934ca495991b7852b855\n",
      "e3b0c44298fc1c149afbf4c8996fb92427ae41e4649b934ca495991b7852b855\n"
     ]
    }
   ],
   "source": [
    "swtl = SHAWalker()\n",
    "swpy = SHAWalkerPy()\n",
    "print(f\"{swtl.hexdigest()}\\n{swpy.hexdigest()}\")"
   ]
  },
  {
   "cell_type": "code",
   "execution_count": 157,
   "metadata": {},
   "outputs": [
    {
     "name": "stdout",
     "output_type": "stream",
     "text": [
      "56ec7a7ce28a186dbc0913330ad45b9dea61d814ec8829aba79cc77c9353a8ee\n",
      "ba7816bf8f01cfea414140de5dae2223b00361a396177a9cb410ff61f20015ad\n"
     ]
    }
   ],
   "source": [
    "data = b'abc'\n",
    "swtl.update(data)\n",
    "swpy.update(data)\n",
    "print(f\"{swtl.hexdigest()}\\n{swpy.hexdigest()}\")"
   ]
  },
  {
   "cell_type": "code",
   "execution_count": 163,
   "metadata": {},
   "outputs": [
    {
     "name": "stdout",
     "output_type": "stream",
     "text": [
      "3db907a741548444bd90a57c270433f9caa52844d36693f92ddc718cf7182fdf\n",
      "277d07fce47a8c7791ae69093f708092e235116f6d2bf6ec3e06c372b057617a\n"
     ]
    }
   ],
   "source": [
    "swtl.step()\n",
    "swpy.step()\n",
    "print(f\"{swtl.hexdigest()}\\n{swpy.hexdigest()}\")"
   ]
  },
  {
   "cell_type": "markdown",
   "metadata": {},
   "source": [
    "## Timings"
   ]
  },
  {
   "cell_type": "code",
   "execution_count": 103,
   "metadata": {
    "collapsed": true
   },
   "outputs": [],
   "source": [
    "nsteps = 500\n",
    "swt = SHAWalker()\n",
    "swp = SHAWalkerPy()"
   ]
  },
  {
   "cell_type": "code",
   "execution_count": 104,
   "metadata": {},
   "outputs": [
    {
     "name": "stdout",
     "output_type": "stream",
     "text": [
      "1.05 ms ± 12.4 µs per loop (mean ± std. dev. of 10 runs, 1000 loops each)\n"
     ]
    }
   ],
   "source": [
    "%%timeit -n 1000 -r 10\n",
    "for i in range(nsteps):\n",
    "    swt.step()\n",
    "    swt.digest()"
   ]
  },
  {
   "cell_type": "code",
   "execution_count": 90,
   "metadata": {},
   "outputs": [
    {
     "name": "stdout",
     "output_type": "stream",
     "text": [
      "504 µs ± 10.7 µs per loop (mean ± std. dev. of 10 runs, 1000 loops each)\n"
     ]
    }
   ],
   "source": [
    "%%timeit -n 1000 -r 10\n",
    "for i in range(nsteps):\n",
    "    swp.step()\n",
    "    swp.digest()"
   ]
  },
  {
   "cell_type": "markdown",
   "metadata": {},
   "source": [
    "Important note: I tried to implement a quick test of a next/jump API, and it's *twice* as slow as the Python one. This was doing it in the easiest way possible, via ctypes, but it's a good indicator that cutting this overhead will require either Cython or pure C/C++.  \n",
    "\n",
    "More importantly, as [stated in the companion notebook](libtomcrypt-ctypes.ipynb#WARNING:-this-SHA256-object-is-broken!), not only is it slower, it's also wrong (for reasons I explain there)."
   ]
  }
 ],
 "metadata": {
  "kernelspec": {
   "display_name": "Python 3",
   "language": "python",
   "name": "python3"
  },
  "language_info": {
   "codemirror_mode": {
    "name": "ipython",
    "version": 3
   },
   "file_extension": ".py",
   "mimetype": "text/x-python",
   "name": "python",
   "nbconvert_exporter": "python",
   "pygments_lexer": "ipython3",
   "version": "3.6.2"
  }
 },
 "nbformat": 4,
 "nbformat_minor": 2
}

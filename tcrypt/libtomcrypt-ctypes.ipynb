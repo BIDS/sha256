{
 "cells": [
  {
   "cell_type": "markdown",
   "metadata": {},
   "source": [
    "# SHA-256 in Python using libtomcrypt and ctypes\n",
    "\n",
    "Note: this is a slightly updated version of the [`demo_dynamic.py` example script](https://github.com/libtom/libtomcrypt/blob/develop/demos/demo_dynamic.py) provided with the official `libtomcrypt` distribution. It has been updated to Python 3 and converted to a Jupyter Notebook, with minor updates to the ctypes calls.  Fernando Perez, September 2017.\n",
    "\n",
    "## demo_dynamic.py                                     v1\n",
    "\n",
    "This program demonstrates Python's use of the dynamic\n",
    "language support additions to LTC, namely access to LTC\n",
    "constants, struct and union sizes, and the binding of a\n",
    "math package to LTC.  Also provided are simple code\n",
    "fragments to illustrate how one might write a Python\n",
    "wrapper for LTC and how an app might call the wrapper.\n",
    "This or a similar model should work for Ruby and other\n",
    "dynamic languages.\n",
    "\n",
    "This instance uses Python's ctypes and requires a single\n",
    ".dylib linking together LTC and a math library.  Building\n",
    "a single .dylib is needed because LTC wants a fairly tight\n",
    "relationship between itself and the mathlib.  (ctypes can\n",
    "load multiple .dylibs, but it does not support this level\n",
    "of tight coupling between otherwise independent libraries.)\n",
    "\n",
    "My .dylib was created on OSX with the following steps:\n",
    "\n",
    "1- compile LTC to a .a static lib:\n",
    "\n",
    "       CFLAGS=\"-DLTM_DESC -DUSE_LTM\" make\n",
    "\n",
    "2- link LTC and LTM into a single .dylib:\n",
    "\n",
    "       ar2dylib_with  tomcrypt  tommath\n",
    "\n",
    "where ar2dylib_with is a shell script that combines\n",
    "the LTC .a with the LTM .dylib\n",
    "\n",
    "Reminder: you don't need to bind in a math library unless\n",
    "          you are going to use LTC functions that depend\n",
    "          on a mathlib.  For example, public key crypto\n",
    "          needs a mathlib; hashing and symmetric encryption\n",
    "          do not.\n",
    "\n",
    "This code was written for Python 2.7.\n",
    "\n",
    "Larry Bugbee\n",
    "March 2014"
   ]
  },
  {
   "cell_type": "code",
   "execution_count": 1,
   "metadata": {
    "collapsed": true
   },
   "outputs": [],
   "source": [
    "from ctypes import *\n",
    "from ctypes.util import find_library"
   ]
  },
  {
   "cell_type": "code",
   "execution_count": 2,
   "metadata": {},
   "outputs": [
    {
     "name": "stdout",
     "output_type": "stream",
     "text": [
      "  demo_dynamic.py\n",
      "  path to library tomcrypt: /opt/libtom/lib/libtomcrypt.dylib\n",
      "  loaded: <CDLL '/opt/libtom/lib/libtomcrypt.dylib', handle 7faa75f2a150 at 0x1106f7a20>\n"
     ]
    }
   ],
   "source": [
    "#---------------------------------------------------------------\n",
    "# load the .dylib\n",
    "\n",
    "libname = 'tomcrypt'\n",
    "libpath = f'/opt/libtom/lib/lib{libname}.dylib'\n",
    "\n",
    "print\n",
    "print('  demo_dynamic.py')\n",
    "print\n",
    "print('  path to library %s: %s' % (libname, libpath))\n",
    "\n",
    "LTC = cdll.LoadLibrary(libpath)\n",
    "print('  loaded: %s' % LTC)"
   ]
  },
  {
   "cell_type": "code",
   "execution_count": 56,
   "metadata": {},
   "outputs": [
    {
     "name": "stdout",
     "output_type": "stream",
     "text": [
      "  all supported constants and their values:\n",
      "    need to allocate 627 bytes \n",
      "\n",
      "PK_PUBLIC,0\n",
      "PK_PRIVATE,1\n",
      "PKA_RSA,0\n",
      "PKA_DSA,1\n",
      "LTC_PKCS_1,1\n",
      "LTC_PKCS_1_EMSA,1\n",
      "LTC_PKCS_1_EME,2\n",
      "LTC_PKCS_1_V1_5,1\n",
      "LTC_PKCS_1_OAEP,2\n",
      "LTC_PKCS_1_PSS,3\n",
      "LTC_MRSA,1\n",
      "MIN_RSA_SIZE,1024\n",
      "MAX_RSA_SIZE,4096\n",
      "LTC_MKAT,0\n",
      "LTC_MECC,1\n",
      "ECC_BUF_SIZE,256\n",
      "ECC_MAXSIZE,66\n",
      "LTC_MDSA,1\n",
      "LTC_MDSA_DELTA,512\n",
      "LTC_MDSA_MAX_GROUP,512\n",
      "LTC_DER_MAX_PUBKEY_SIZE,4096\n",
      "LTC_MILLER_RABIN_REPS,35\n",
      "LTC_CTR_MODE,1\n",
      "CTR_COUNTER_LITTLE_ENDIAN,0\n",
      "CTR_COUNTER_BIG_ENDIAN,4096\n",
      "LTC_CTR_RFC3686,8192\n",
      "MAXBLOCKSIZE,128\n",
      "TAB_SIZE,32\n",
      "ARGTYPE,0\n",
      "LTM_DESC,1\n",
      "TFM_DESC,0\n",
      "GMP_DESC,0\n",
      "LTC_FAST,1\n",
      "LTC_NO_FILE,0\n",
      "ENDIAN_LITTLE,1\n",
      "ENDIAN_BIG,0\n",
      "ENDIAN_32BITWORD,0\n",
      "ENDIAN_64BITWORD,1\n",
      "ENDIAN_NEUTRAL,0\n"
     ]
    }
   ],
   "source": [
    "#---------------------------------------------------------------\n",
    "# get list of all supported constants followed by a list of all\n",
    "# supported sizes.  One alternative: these lists may be parsed\n",
    "# and used as needed.\n",
    "print('  all supported constants and their values:')\n",
    "\n",
    "# get size to allocate for constants output list\n",
    "str_len = c_int(0)\n",
    "ret = LTC.crypt_list_all_constants(None, byref(str_len))\n",
    "print('    need to allocate %d bytes \\n' % str_len.value)\n",
    "\n",
    "# allocate that size and get (name, size) pairs, each pair\n",
    "# separated by a newline char.\n",
    "names_sizes = c_buffer(str_len.value)\n",
    "ret = LTC.crypt_list_all_constants(names_sizes, byref(str_len))\n",
    "print(names_sizes.value.decode())"
   ]
  },
  {
   "cell_type": "code",
   "execution_count": 57,
   "metadata": {},
   "outputs": [
    {
     "name": "stdout",
     "output_type": "stream",
     "text": [
      "  all supported sizes:\n",
      "    need to allocate 1151 bytes \n",
      "\n",
      "ltc_hash_descriptor,208\n",
      "hash_state,416\n",
      "sha256_state,112\n",
      "sha3_state,416\n",
      "sha512_state,208\n",
      "whirlpool_state,144\n",
      "md2_state,88\n",
      "md4_state,96\n",
      "md5_state,96\n",
      "rmd128_state,96\n",
      "rmd160_state,96\n",
      "rmd256_state,112\n",
      "rmd320_state,120\n",
      "sha1_state,96\n",
      "tiger_state,104\n",
      "blake2s_state,136\n",
      "blake2b_state,248\n",
      "chc_state,272\n",
      "ltc_cipher_descriptor,192\n",
      "symmetric_key,4256\n",
      "anubis_key,616\n",
      "camellia_key,280\n",
      "blowfish_key,4168\n",
      "cast5_key,132\n",
      "des_key,256\n",
      "des3_key,768\n",
      "kasumi_key,256\n",
      "khazad_key,144\n",
      "kseed_key,256\n",
      "multi2_key,36\n",
      "noekeon_key,32\n",
      "rc2_key,256\n",
      "rc5_key,204\n",
      "rc6_key,176\n",
      "skipjack_key,10\n",
      "xtea_key,512\n",
      "rijndael_key,484\n",
      "safer_key,217\n",
      "saferp_key,536\n",
      "twofish_key,4256\n",
      "symmetric_CBC,4392\n",
      "symmetric_CFB,4528\n",
      "symmetric_CTR,4536\n",
      "symmetric_ECB,4264\n",
      "symmetric_F8,4528\n",
      "symmetric_LRW,69848\n",
      "symmetric_OFB,4400\n",
      "f9_state,4656\n",
      "hmac_state,848\n",
      "omac_state,4784\n",
      "pelican_state,4280\n",
      "pmac_state,8888\n",
      "xcbc_state,4784\n",
      "ocb_state,9008\n",
      "ocb3_state,9536\n",
      "gcm_state,69904\n",
      "eax_state,14232\n",
      "rsa_key,72\n",
      "dsa_key,48\n",
      "dh_key,40\n",
      "ltc_ecc_set_type,56\n",
      "ecc_key,48\n",
      "ecc_point,24\n",
      "ltc_prng_descriptor,80\n",
      "prng_state,17656\n",
      "fortuna_prng,17648\n",
      "chacha20_prng,200\n",
      "rc4_prng,264\n",
      "sober128_prng,200\n",
      "yarrow_prng,4672\n",
      "adler32_state,4\n",
      "crc32_state,4\n"
     ]
    }
   ],
   "source": [
    "print('  all supported sizes:')\n",
    "\n",
    "# get size to allocate for sizes output list\n",
    "str_len = c_int(0)\n",
    "ret = LTC.crypt_list_all_sizes(None, byref(str_len))\n",
    "print('    need to allocate %d bytes \\n' % str_len.value)\n",
    "\n",
    "# allocate that size and get (name, size) pairs, each pair\n",
    "# separated by a newline char.\n",
    "names_sizes = create_string_buffer(str_len.value)\n",
    "ret = LTC.crypt_list_all_sizes(names_sizes, byref(str_len))\n",
    "print(names_sizes.value.decode())"
   ]
  },
  {
   "cell_type": "code",
   "execution_count": 60,
   "metadata": {},
   "outputs": [
    {
     "name": "stdout",
     "output_type": "stream",
     "text": [
      "\n",
      "  selected constants:\n",
      "    ENDIAN_LITTLE              1\n",
      "    ENDIAN_64BITWORD           1\n",
      "    PK_PUBLIC                  0\n",
      "    MAX_RSA_SIZE               4096\n",
      "    CTR_COUNTER_BIG_ENDIAN     4096\n"
     ]
    }
   ],
   "source": [
    "#---------------------------------------------------------------\n",
    "# get individually named constants and sizes\n",
    "\n",
    "# print selected constants\n",
    "print('\\n  selected constants:')\n",
    "\n",
    "names = [\n",
    "    b'ENDIAN_LITTLE',\n",
    "    b'ENDIAN_64BITWORD',\n",
    "    b'PK_PUBLIC',\n",
    "    b'MAX_RSA_SIZE',\n",
    "    b'CTR_COUNTER_BIG_ENDIAN',\n",
    "]\n",
    "for name in names:\n",
    "    const_value = c_int(0)\n",
    "    rc = LTC.crypt_get_constant(name, byref(const_value))\n",
    "    value = const_value.value\n",
    "    print('    %-25s  %d' % (name.decode(), value))"
   ]
  },
  {
   "cell_type": "code",
   "execution_count": 61,
   "metadata": {},
   "outputs": [
    {
     "name": "stdout",
     "output_type": "stream",
     "text": [
      "\n",
      "  selected sizes:\n",
      "    rijndael_key               484\n",
      "    rsa_key                    72\n",
      "    symmetric_CTR              4536\n",
      "    twofish_key                4256\n",
      "    ecc_point                  24\n",
      "    gcm_state                  69904\n",
      "    sha256_state               112\n",
      "    sha512_state               208\n"
     ]
    }
   ],
   "source": [
    "# print selected sizes\n",
    "print('\\n  selected sizes:')\n",
    "\n",
    "names = [\n",
    "    b'rijndael_key',\n",
    "    b'rsa_key',\n",
    "    b'symmetric_CTR',\n",
    "    b'twofish_key',\n",
    "    b'ecc_point',\n",
    "    b'gcm_state',\n",
    "    b'sha256_state',\n",
    "    b'sha512_state',\n",
    "]\n",
    "for name in names:\n",
    "    size_value = c_int(0)\n",
    "    rc = LTC.crypt_get_size(name, byref(size_value))\n",
    "    value = size_value.value\n",
    "    print('    %-25s  %d' % (name.decode(), value))"
   ]
  },
  {
   "cell_type": "code",
   "execution_count": 62,
   "metadata": {},
   "outputs": [
    {
     "name": "stdout",
     "output_type": "stream",
     "text": [
      "\n",
      "------------------------------------------------------------\n",
      "This is a string compiled into LTC showing compile \n",
      "options and algorithms supported by this build \n",
      "\n",
      "LibTomCrypt 1.17 (www.libtom.net)\n",
      "LibTomCrypt is public domain software.\n",
      "\n",
      "\n",
      "Endianness: little (64-bit words)\n",
      "Clean stack: disabled\n",
      "Ciphers built-in:\n",
      "   Blowfish\n",
      "   RC2\n",
      "   RC5\n",
      "   RC6\n",
      "   Safer+\n",
      "   Safer\n",
      "   Rijndael\n",
      "   XTEA\n",
      "   Twofish (tables)\n",
      "   DES\n",
      "   CAST5\n",
      "   Noekeon\n",
      "   Skipjack\n",
      "   Khazad\n",
      "   Anubis  (tweaked)\n",
      "   KSEED\n",
      "   KASUMI\n",
      "   MULTI2\n",
      "   Camellia\n",
      "Stream ciphers built-in:\n",
      "   ChaCha\n",
      "   RC4\n",
      "   SOBER128\n",
      "\n",
      "Hashes built-in:\n",
      "   SHA3\n",
      "   SHA-512\n",
      "   SHA-384\n",
      "   SHA-512/256\n",
      "   SHA-256\n",
      "   SHA-512/224\n",
      "   SHA-224\n",
      "   TIGER\n",
      "   SHA1\n",
      "   MD5\n",
      "   MD4\n",
      "   MD2\n",
      "   RIPEMD128\n",
      "   RIPEMD160\n",
      "   RIPEMD256\n",
      "   RIPEMD320\n",
      "   WHIRLPOOL\n",
      "   BLAKE2S\n",
      "   BLAKE2B\n",
      "   CHC_HASH\n",
      "\n",
      "Block Chaining Modes:\n",
      "   CFB\n",
      "   OFB\n",
      "   ECB\n",
      "   CBC\n",
      "   CTR\n",
      "   LRW (tables) \n",
      "   F8\n",
      "   XTS\n",
      "\n",
      "MACs:\n",
      "   HMAC\n",
      "   OMAC\n",
      "   PMAC\n",
      "   PELICAN\n",
      "   XCBC\n",
      "   F9\n",
      "   POLY1305\n",
      "   BLAKE2S MAC\n",
      "   BLAKE2B MAC\n",
      "\n",
      "ENC + AUTH modes:\n",
      "   EAX\n",
      "   OCB\n",
      "   OCB3\n",
      "   CCM\n",
      "   GCM (tables) \n",
      "   CHACHA20POLY1305\n",
      "\n",
      "PRNG:\n",
      "   Yarrow (LTC_YARROW_AES=2)\n",
      "   SPRNG\n",
      "   RC4\n",
      "   ChaCha20\n",
      "   Fortuna (LTC_FORTUNA_POOLS=32, LTC_FORTUNA_WD=10)\n",
      "   SOBER128\n",
      "\n",
      "PK Algs:\n",
      "   RSA (with blinding and CRT hardening)\n",
      "   DH\n",
      "   ECC (with blinding)\n",
      "   DSA\n",
      "\n",
      "MPI (Math):\n",
      "   LTC_MPI\n",
      "   LTM_DESC\n",
      "   LTC_MILLER_RABIN_REPS=35\n",
      "\n",
      "Compiler:\n",
      "   Clang compiler 8.0.0 (clang-800.0.38).\n",
      "   x86-64 detected.\n",
      "\n",
      "Various others:  ADLER32  BASE64  BASE64-URL-SAFE  CRC32  DER  LTC_DER_MAX_PUBKEY_SIZE=4096  PKCS#1  PKCS#5  HKDF  LTC_DEVRANDOM  LTC_TRY_URANDOM_FIRST  LTC_RNG_GET_BYTES  LTC_RNG_MAKE_PRNG  LTC_HASH_HELPERS  LTC_TEST  LTC_FILE_READ_BUFSIZE=8192  LTC_FAST  LTC_ROx_ASM  LTC_ECC_SHAMIR \n",
      "\n"
     ]
    }
   ],
   "source": [
    "#---------------------------------------------------------------\n",
    "#---------------------------------------------------------------\n",
    "# ctypes getting a list of this build's supported algorithms\n",
    "# and compiler switches\n",
    "\n",
    "def get_named_string(lib, name):\n",
    "    return c_char_p.in_dll(lib, name).value.decode()\n",
    "\n",
    "print('\\n%s' % ('-'*60))\n",
    "print('This is a string compiled into LTC showing compile ')\n",
    "print('options and algorithms supported by this build \\n')\n",
    "print(get_named_string(LTC, 'crypt_build_settings'))"
   ]
  },
  {
   "cell_type": "code",
   "execution_count": 67,
   "metadata": {
    "collapsed": true
   },
   "outputs": [],
   "source": [
    "#---------------------------------------------------------------\n",
    "# here is an example of how a wrapper can make Python access\n",
    "# more Pythonic\n",
    "\n",
    "def _get_size(name):\n",
    "    size = c_int(0)\n",
    "    rc = LTC.crypt_get_size(name, byref(size))\n",
    "    return size.value\n",
    "\n",
    "sha256_state_struct_size = _get_size(b'sha256_state')\n",
    "sha512_state_struct_size = _get_size(b'sha512_state')\n",
    "\n",
    "class SHA256(object):\n",
    "    def __init__(self):\n",
    "        self.state = create_string_buffer(sha256_state_struct_size)\n",
    "        LTC.sha256_init(byref(self.state))\n",
    "        \n",
    "    def update(self, data):\n",
    "        if not isinstance(data, bytes):\n",
    "            raise TypeError(\"Unicode-objects must be encoded before hashing - tomcrypt\")\n",
    "        LTC.sha256_process(byref(self.state), data, len(data))\n",
    "        \n",
    "    def digest(self):\n",
    "        md = create_string_buffer(32)\n",
    "        LTC.sha256_done(byref(self.state), byref(md))\n",
    "        return md.raw\n",
    "\n",
    "    def hexdigest(self):\n",
    "        return self.digest().hex()"
   ]
  },
  {
   "cell_type": "code",
   "execution_count": 68,
   "metadata": {},
   "outputs": [
    {
     "name": "stdout",
     "output_type": "stream",
     "text": [
      "the SHA256 digest for b'hello world' is b94d27b9934d3e08a52e52d7da7dabfac484efe37a5380ee9088f7ace2efcde9\n"
     ]
    }
   ],
   "source": [
    "data = b'hello world'\n",
    "\n",
    "sha256 = SHA256()\n",
    "sha256.update(data)\n",
    "md = sha256.hexdigest()\n",
    "\n",
    "print(f'the SHA256 digest for {data} is {md}')"
   ]
  },
  {
   "cell_type": "code",
   "execution_count": 69,
   "metadata": {},
   "outputs": [
    {
     "name": "stdout",
     "output_type": "stream",
     "text": [
      "the SHA256 digest for b'hello world' is b94d27b9934d3e08a52e52d7da7dabfac484efe37a5380ee9088f7ace2efcde9\n"
     ]
    }
   ],
   "source": [
    "import hashlib\n",
    "\n",
    "sha256py = hashlib.sha256()\n",
    "sha256py.update(data)\n",
    "mdpy = sha256py.hexdigest()\n",
    "\n",
    "print(f'the SHA256 digest for {data} is {mdpy}')"
   ]
  },
  {
   "cell_type": "markdown",
   "metadata": {},
   "source": [
    "## WARNING: this SHA256 object is broken!\n",
    "\n",
    "The digest call uses the `libtomcrypt.sha256_done` function, which modifies the state of the object. So **`digest` isn't idempotent**:"
   ]
  },
  {
   "cell_type": "code",
   "execution_count": 78,
   "metadata": {},
   "outputs": [
    {
     "name": "stdout",
     "output_type": "stream",
     "text": [
      "b94d27b9934d3e08a52e52d7da7dabfac484efe37a5380ee9088f7ace2efcde9\n",
      "87bbcdbd44a8e483f44e718c885e9031212de7d658ecf1b84e6617f4b649918f\n",
      "739d6dbde991fa20e69a3fed954160712a86d3a4f6e669352e1674fbc119e95b\n"
     ]
    }
   ],
   "source": [
    "data = b'hello world'\n",
    "\n",
    "sha256 = SHA256()\n",
    "sha256.update(data)\n",
    "\n",
    "print(sha256.hexdigest())\n",
    "print(sha256.hexdigest())\n",
    "print(sha256.hexdigest())"
   ]
  },
  {
   "cell_type": "markdown",
   "metadata": {},
   "source": [
    "In comparison, the hashlib hash objects don't have this problem:"
   ]
  },
  {
   "cell_type": "code",
   "execution_count": 79,
   "metadata": {},
   "outputs": [
    {
     "name": "stdout",
     "output_type": "stream",
     "text": [
      "b94d27b9934d3e08a52e52d7da7dabfac484efe37a5380ee9088f7ace2efcde9\n",
      "b94d27b9934d3e08a52e52d7da7dabfac484efe37a5380ee9088f7ace2efcde9\n",
      "b94d27b9934d3e08a52e52d7da7dabfac484efe37a5380ee9088f7ace2efcde9\n"
     ]
    }
   ],
   "source": [
    "sha256py = hashlib.sha256()\n",
    "sha256py.update(data)\n",
    "\n",
    "print(sha256py.hexdigest())\n",
    "print(sha256py.hexdigest())\n",
    "print(sha256py.hexdigest())"
   ]
  },
  {
   "cell_type": "markdown",
   "metadata": {},
   "source": [
    "Looking at the underlying C code in the Pytyhon stdlib shows why. The function that implements the digest method looks like this:\n",
    "\n",
    "```C\n",
    "static PyObject *\n",
    "SHA256Type_digest_impl(SHAobject *self)\n",
    "/*[clinic end generated code: output=46616a5e909fbc3d input=1fb752e58954157d]*/\n",
    "{\n",
    "    unsigned char digest[SHA_DIGESTSIZE];\n",
    "    SHAobject temp;\n",
    "\n",
    "    SHAcopy(self, &temp);\n",
    "    sha_final(digest, &temp);\n",
    "    return PyBytes_FromStringAndSize((const char *)digest, self->digestsize);\n",
    "}\n",
    "```\n",
    "\n",
    "It makes a *copy* of the hash object before calling `sha_final` (whose code is taken from `libtomcrypt`). "
   ]
  },
  {
   "cell_type": "code",
   "execution_count": null,
   "metadata": {
    "collapsed": true
   },
   "outputs": [],
   "source": []
  }
 ],
 "metadata": {
  "kernelspec": {
   "display_name": "Python 3",
   "language": "python",
   "name": "python3"
  },
  "language_info": {
   "codemirror_mode": {
    "name": "ipython",
    "version": 3
   },
   "file_extension": ".py",
   "mimetype": "text/x-python",
   "name": "python",
   "nbconvert_exporter": "python",
   "pygments_lexer": "ipython3",
   "version": "3.6.2"
  }
 },
 "nbformat": 4,
 "nbformat_minor": 2
}
